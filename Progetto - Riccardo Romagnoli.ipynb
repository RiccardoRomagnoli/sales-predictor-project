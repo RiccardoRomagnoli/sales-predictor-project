{
 "cells": [
  {
   "cell_type": "markdown",
   "metadata": {},
   "source": [
    "# Progetto Data Intensive\n",
    "\n",
    "**Programmazione di Applicazioni Data Intensive**  \n",
    "Laurea in Ingegneria e Scienze Informatiche  \n",
    "DISI - Università di Bologna, Cesena\n",
    "\n",
    "Riccardo Romagnoli `832198`  \n",
    "`riccardo.romagnoli3@studio.unibo.it`"
   ]
  },
  {
   "cell_type": "markdown",
   "metadata": {},
   "source": [
    "## Introduzione\n",
    "In questo progetto analizzeremo un caso di studio che mi riguarda personalmente nella mia attività di venditore terzo in Amazon. \n",
    "\n",
    "L'obbiettivo consiste nel ricercare un modello predittivo di vendite di un determinato prodotto. Questa informazione verrà poi utilizzata per stimare la durata residua dell'inventario attualmente disponibile in magazzino, quindi sapere in quanti giorni il prodotto andrà **out of stock** così da organizzare eventuali rifornimenti.\n",
    "\n",
    "Amazon fornisce ai venditori dei dati separati per **marketplace** (Amazon IT, Amazon ES ...), per questo progetto condidereremo solo i dati relativi al marcato Spagnolo poichè unirli non porterebbe un aumento di valore consistente. Inoltre l'unione delle due sorgenti dati potrebbe far perdere caratteristiche differenti per il paese di provenienza."
   ]
  },
  {
   "cell_type": "markdown",
   "metadata": {},
   "source": [
    "## 1 - Panoramica\n",
    "Scaricato il documento dal sito riservato dei venditori amazon ci troviamo con *BusinessReport-ES.csv* da cui potremo iniziare ad eseguire operazioni di pulizia di istanze e drop di colonne non rilevanti."
   ]
  },
  {
   "cell_type": "markdown",
   "metadata": {},
   "source": [
    "### Setup\n",
    "- Importare i package necessari per il progetto in questione"
   ]
  },
  {
   "cell_type": "code",
   "execution_count": 1,
   "metadata": {},
   "outputs": [],
   "source": [
    "import numpy as np\n",
    "import pandas as pd\n",
    "import matplotlib.pyplot as plt\n",
    "import sklearn"
   ]
  },
  {
   "cell_type": "markdown",
   "metadata": {},
   "source": [
    "- In Jupyter, configurare l'output di matplotlib integrato nel notebook"
   ]
  },
  {
   "cell_type": "code",
   "execution_count": 2,
   "metadata": {},
   "outputs": [],
   "source": [
    "%matplotlib inline"
   ]
  },
  {
   "cell_type": "markdown",
   "metadata": {},
   "source": [
    "- Disabilito i warning"
   ]
  },
  {
   "cell_type": "code",
   "execution_count": 3,
   "metadata": {},
   "outputs": [],
   "source": [
    "import warnings\n",
    "warnings.filterwarnings('ignore')"
   ]
  },
  {
   "cell_type": "markdown",
   "metadata": {},
   "source": [
    "- Classe colori print"
   ]
  },
  {
   "cell_type": "code",
   "execution_count": 4,
   "metadata": {},
   "outputs": [],
   "source": [
    "class bcolors:\n",
    "    HEADER = '\\033[95m'\n",
    "    OKBLUE = '\\033[94m'\n",
    "    OKGREEN = '\\033[92m'\n",
    "    WARNING = '\\033[93m'\n",
    "    FAIL = '\\033[91m'\n",
    "    ENDC = '\\033[0m'\n",
    "    BOLD = '\\033[1m'\n",
    "    UNDERLINE = '\\033[4m'"
   ]
  },
  {
   "cell_type": "markdown",
   "metadata": {},
   "source": [
    "Lettura dei due file utilizzando `read_csv` impostando come indice la data e come etichette la prima riga (default)."
   ]
  },
  {
   "cell_type": "code",
   "execution_count": 5,
   "metadata": {},
   "outputs": [],
   "source": [
    "Vendite = pd.read_csv(\"BusinessReport-ES.csv\", index_col=\"Data\", parse_dates=[\"Data\"], sep=\";\")"
   ]
  },
  {
   "cell_type": "code",
   "execution_count": 6,
   "metadata": {
    "scrolled": false
   },
   "outputs": [
    {
     "data": {
      "text/html": [
       "<div>\n",
       "<style scoped>\n",
       "    .dataframe tbody tr th:only-of-type {\n",
       "        vertical-align: middle;\n",
       "    }\n",
       "\n",
       "    .dataframe tbody tr th {\n",
       "        vertical-align: top;\n",
       "    }\n",
       "\n",
       "    .dataframe thead th {\n",
       "        text-align: right;\n",
       "    }\n",
       "</style>\n",
       "<table border=\"1\" class=\"dataframe\">\n",
       "  <thead>\n",
       "    <tr style=\"text-align: right;\">\n",
       "      <th></th>\n",
       "      <th>Vendite prodotti ordinati</th>\n",
       "      <th>Vendite di prodotti ordinati - B2B</th>\n",
       "      <th>Totale prodotti ordinati</th>\n",
       "      <th>Tot. articoli ordinati - B2B</th>\n",
       "      <th>Prezzo medio di vendita</th>\n",
       "      <th>Prezzo medio di vendita - B2B</th>\n",
       "      <th>Visualizzazioni pagina</th>\n",
       "      <th>Sessioni</th>\n",
       "      <th>Percentuale Buy Box</th>\n",
       "      <th>Conteggio medio delle offerte</th>\n",
       "    </tr>\n",
       "    <tr>\n",
       "      <th>Data</th>\n",
       "      <th></th>\n",
       "      <th></th>\n",
       "      <th></th>\n",
       "      <th></th>\n",
       "      <th></th>\n",
       "      <th></th>\n",
       "      <th></th>\n",
       "      <th></th>\n",
       "      <th></th>\n",
       "      <th></th>\n",
       "    </tr>\n",
       "  </thead>\n",
       "  <tbody>\n",
       "    <tr>\n",
       "      <th>2020-05-23</th>\n",
       "      <td>143,32 €</td>\n",
       "      <td>0,00 €</td>\n",
       "      <td>7</td>\n",
       "      <td>0</td>\n",
       "      <td>21,24 €</td>\n",
       "      <td>21,24 €</td>\n",
       "      <td>148</td>\n",
       "      <td>85</td>\n",
       "      <td>80%</td>\n",
       "      <td>6</td>\n",
       "    </tr>\n",
       "    <tr>\n",
       "      <th>2020-05-24</th>\n",
       "      <td>210,04 €</td>\n",
       "      <td>0,00 €</td>\n",
       "      <td>10</td>\n",
       "      <td>0</td>\n",
       "      <td>21,24 €</td>\n",
       "      <td>21,24 €</td>\n",
       "      <td>142</td>\n",
       "      <td>85</td>\n",
       "      <td>100%</td>\n",
       "      <td>6</td>\n",
       "    </tr>\n",
       "    <tr>\n",
       "      <th>2020-05-25</th>\n",
       "      <td>84,05 €</td>\n",
       "      <td>0,00 €</td>\n",
       "      <td>4</td>\n",
       "      <td>0</td>\n",
       "      <td>21,24 €</td>\n",
       "      <td>21,24 €</td>\n",
       "      <td>86</td>\n",
       "      <td>44</td>\n",
       "      <td>89%</td>\n",
       "      <td>6</td>\n",
       "    </tr>\n",
       "    <tr>\n",
       "      <th>2020-05-26</th>\n",
       "      <td>89,47 €</td>\n",
       "      <td>0,00 €</td>\n",
       "      <td>4</td>\n",
       "      <td>0</td>\n",
       "      <td>21,24 €</td>\n",
       "      <td>21,24 €</td>\n",
       "      <td>91</td>\n",
       "      <td>34</td>\n",
       "      <td>100%</td>\n",
       "      <td>5</td>\n",
       "    </tr>\n",
       "    <tr>\n",
       "      <th>2020-05-27</th>\n",
       "      <td>93,87 €</td>\n",
       "      <td>0,00 €</td>\n",
       "      <td>4</td>\n",
       "      <td>0</td>\n",
       "      <td>21,24 €</td>\n",
       "      <td>21,24 €</td>\n",
       "      <td>87</td>\n",
       "      <td>45</td>\n",
       "      <td>99%</td>\n",
       "      <td>6</td>\n",
       "    </tr>\n",
       "  </tbody>\n",
       "</table>\n",
       "</div>"
      ],
      "text/plain": [
       "           Vendite prodotti ordinati Vendite di prodotti ordinati - B2B  \\\n",
       "Data                                                                      \n",
       "2020-05-23                  143,32 €                             0,00 €   \n",
       "2020-05-24                  210,04 €                             0,00 €   \n",
       "2020-05-25                   84,05 €                             0,00 €   \n",
       "2020-05-26                   89,47 €                             0,00 €   \n",
       "2020-05-27                   93,87 €                             0,00 €   \n",
       "\n",
       "            Totale prodotti ordinati  Tot. articoli ordinati - B2B  \\\n",
       "Data                                                                 \n",
       "2020-05-23                         7                             0   \n",
       "2020-05-24                        10                             0   \n",
       "2020-05-25                         4                             0   \n",
       "2020-05-26                         4                             0   \n",
       "2020-05-27                         4                             0   \n",
       "\n",
       "           Prezzo medio di vendita Prezzo medio di vendita - B2B  \\\n",
       "Data                                                               \n",
       "2020-05-23                 21,24 €                       21,24 €   \n",
       "2020-05-24                 21,24 €                       21,24 €   \n",
       "2020-05-25                 21,24 €                       21,24 €   \n",
       "2020-05-26                 21,24 €                       21,24 €   \n",
       "2020-05-27                 21,24 €                       21,24 €   \n",
       "\n",
       "            Visualizzazioni pagina  Sessioni Percentuale Buy Box  \\\n",
       "Data                                                               \n",
       "2020-05-23                     148        85                 80%   \n",
       "2020-05-24                     142        85                100%   \n",
       "2020-05-25                      86        44                 89%   \n",
       "2020-05-26                      91        34                100%   \n",
       "2020-05-27                      87        45                 99%   \n",
       "\n",
       "            Conteggio medio delle offerte  \n",
       "Data                                       \n",
       "2020-05-23                              6  \n",
       "2020-05-24                              6  \n",
       "2020-05-25                              6  \n",
       "2020-05-26                              5  \n",
       "2020-05-27                              6  "
      ]
     },
     "execution_count": 6,
     "metadata": {},
     "output_type": "execute_result"
    }
   ],
   "source": [
    "Vendite.tail()"
   ]
  },
  {
   "cell_type": "markdown",
   "metadata": {},
   "source": [
    "### Dati Disponibili\n",
    "\n",
    "- `Vendite prodotti ordinati`: Tot fatturato dalle vendite\n",
    "- `Vendite di prodotti ordinati - B2B`: Tot fatturato dalle vendite B2B\n",
    "- `Totale prodotti ordinati`: Totale dei prodotti ordinati \n",
    "- `Tot. articoli ordinati - B2B`: Totale dei prodotti ordinati B2B\n",
    "- `Prezzo medio di vendita`: Media dei prezzi dei prodotti venduti\n",
    "- `Prezzo medio di vendita - B2B`: Media dei prezzi dei prodotti venduti B2B\n",
    "- `Visualizzazioni pagina\t`: Comparizioni nei risultati di ricerca\n",
    "- `Sessioni`: Per sessione s'intende la visita da parte di un utente alle pagine Amazon del venditore. Qualsiasi attività effettuata entro un periodo di tempo di 24 ore è considerata come una unica sessione.\n",
    "- `Percentuale Buy Box`: Si tratta della percentuale di visualizzazioni di pagine in cui compare la Buy Box (link \"Aggiungi al carrello\") e che consente ai clienti di aggiungere il prodotto al carrello.\n",
    "- `Conteggio medio delle offerte`: Si tratta di una metrica di conversione percentuale indicante la quantità di unità acquistate relativamente al numero di persone che hanno visualizzato i prodotti. (Impreciso, spesso a 0 quando invece vengono generate vendite)"
   ]
  },
  {
   "cell_type": "markdown",
   "metadata": {},
   "source": [
    "Da una prima analisi possiamo subito decidere di unificare i dati relativi al B2B poichè le restanti feature sono influenzate anche da visitatori *Business*. Quindi non eseguire questa operazione ci farebbe mantenere, per esempio, delle sessioni e visualizzazioni che si sono convertite in vendite di cui però non teniamo traccia.\n",
    "\n",
    "Possiamo eliminare le colonne che fanno riferimento al fatturato giornaliero poichè non rilevante, come anche il prezzo medio delle vendite B2B poichè duplicato in `Prezzo medio di vendita`."
   ]
  },
  {
   "cell_type": "code",
   "execution_count": 7,
   "metadata": {},
   "outputs": [],
   "source": [
    "Vendite[\"Vendite prodotti ordinati\"] = Vendite.loc[:,[\"Vendite prodotti ordinati\",\n",
    "                                                      \"Vendite di prodotti ordinati - B2B\"]].sum(axis=1)\n",
    "\n",
    "Vendite.drop(columns=[\n",
    "    \"Vendite prodotti ordinati\", \n",
    "    \"Vendite di prodotti ordinati - B2B\", \n",
    "    \"Tot. articoli ordinati - B2B\", \n",
    "    \"Prezzo medio di vendita - B2B\",\n",
    "    ], inplace=True);"
   ]
  },
  {
   "cell_type": "markdown",
   "metadata": {},
   "source": [
    "Ora, analizzando il tipo dei dati delle colonne dei nostri DF constatiamo che è errato a causa del simbolo dell'euro, delle percentuali e le virgole. Proseguiamo trasformando questi dati in tipo float dopo aver correttamente sostituito i caratteri problematici."
   ]
  },
  {
   "cell_type": "code",
   "execution_count": 8,
   "metadata": {
    "scrolled": true
   },
   "outputs": [
    {
     "data": {
      "text/plain": [
       "Totale prodotti ordinati          int64\n",
       "Prezzo medio di vendita          object\n",
       "Visualizzazioni pagina            int64\n",
       "Sessioni                          int64\n",
       "Percentuale Buy Box              object\n",
       "Conteggio medio delle offerte     int64\n",
       "dtype: object"
      ]
     },
     "execution_count": 8,
     "metadata": {},
     "output_type": "execute_result"
    }
   ],
   "source": [
    "Vendite.dtypes"
   ]
  },
  {
   "cell_type": "code",
   "execution_count": 9,
   "metadata": {},
   "outputs": [],
   "source": [
    "Vendite[\"Prezzo medio di vendita\"] = Vendite[\"Prezzo medio di vendita\"].replace({'\\€': '', ',': '.'}, regex=True).astype(float)\n",
    "Vendite[\"Percentuale Buy Box\"] = Vendite[\"Percentuale Buy Box\"].replace({'\\%': '', ',': '.'}, regex=True).astype(float)"
   ]
  },
  {
   "cell_type": "code",
   "execution_count": 10,
   "metadata": {
    "scrolled": false
   },
   "outputs": [
    {
     "data": {
      "text/plain": [
       "Totale prodotti ordinati           int64\n",
       "Prezzo medio di vendita          float64\n",
       "Visualizzazioni pagina             int64\n",
       "Sessioni                           int64\n",
       "Percentuale Buy Box              float64\n",
       "Conteggio medio delle offerte      int64\n",
       "dtype: object"
      ]
     },
     "execution_count": 10,
     "metadata": {},
     "output_type": "execute_result"
    }
   ],
   "source": [
    "Vendite.dtypes"
   ]
  },
  {
   "cell_type": "code",
   "execution_count": 11,
   "metadata": {
    "scrolled": true
   },
   "outputs": [],
   "source": [
    "#Rinominazione colonne\n",
    "Vendite.columns = ['ordini','prezzo_medio','visualizzazioni','sessioni','per_buybox','offerte_attive']"
   ]
  },
  {
   "cell_type": "code",
   "execution_count": 12,
   "metadata": {},
   "outputs": [
    {
     "data": {
      "image/png": "[encoded data removed]",
      "text/plain": [
       "<Figure size 1152x576 with 1 Axes>"
      ]
     },
     "metadata": {
      "needs_background": "light"
     },
     "output_type": "display_data"
    }
   ],
   "source": [
    "Vendite[\"ordini\"].plot(figsize=(16, 8));"
   ]
  },
  {
   "cell_type": "markdown",
   "metadata": {},
   "source": [
    "A questo punto è necessario specificare più nel dettaglio di che tipo di prodotto stiamo parlando e a cosa si riferisce ogni riga. Il propdotto in questione ha la caratteristica di essere suddiviso in taglie (S M L XL ...) e quindi una taglia potrebbe essere *out-of-stock*, non generando vendite e allo stesso tempo generando volume di dati raccolti (**ES: visualizzo la pagina ma non posso comprare perchè la taglia non è disponibile**). In ogni instanza abbiamo i dati totali generati da tutte le taglie.\n",
    "\n",
    "Quindi il Prossimo filtro applicato rimuoverà le righe con offerte attive < 3 e vendite < 2. Questo perchè questi giorni molto probabilmente sono influenzati dalla disponibilità in magazzino del prodotto. Un'altra accortezza di correzzione dei dati sta nel correggere il valore offerte_attive = 0 quando in realta sono presenti delle vendite per quei giorni. (Purtroppo questo errore è attribuibile a calcoli errati di Amazon)."
   ]
  },
  {
   "cell_type": "code",
   "execution_count": 13,
   "metadata": {},
   "outputs": [],
   "source": [
    "#Rimozione Istanze \"Critiche\"\n",
    "to_remove = ((Vendite[\"offerte_attive\"] < 3) & (Vendite[\"ordini\"] < 2))\n",
    "Vendite.drop(Vendite[to_remove].index, inplace=True)\n",
    "\n",
    "#Assegnamento valore medio di offerte medie attive quando è queste sono 0 e in realtà ci sono vendite registrate\n",
    "Vendite.loc[(Vendite[\"offerte_attive\"] == 0) & (Vendite[\"ordini\"] > 0),\n",
    "            \"offerte_attive\"] = Vendite[\"offerte_attive\"].mean()"
   ]
  },
  {
   "cell_type": "markdown",
   "metadata": {},
   "source": [
    "### A - Il problema\n",
    "\n",
    "Finita la fase di preparazione dei dati possiamo proseguire analizzando più nel dettaglio il nostro dataset facendo tutte le considerazioni del caso.\n",
    "\n",
    "Come anticipato, il seguente progetto si pone come obbiettivo finale la stima dei giorni di inventario rimanendi sulla base di una quantità attuale di prodotti in magazzino. Questo è possibile predicendo le vendite giornaliere (variabile discreta) dei giorni a seguire stimando le possibili visualizzazioni che l'annuncio puo avere sulla base del trend settimanale e stagionale.\n",
    "\n",
    "Le feature principali, e quindi le possibili variabili predittive, sono:\n",
    "\n",
    "- `Prezzo medio di vendita`: Media dei prezzi dei prodotti venduti\n",
    "- `Visualizzazioni pagina`: Comparizioni nei risultati di ricerca\n",
    "- `Sessioni`: Per sessione s'intende la visita da parte di un utente alle pagine Amazon del venditore. Qualsiasi attività effettuata entro un periodo di tempo di 24 ore è considerata come una unica sessione.\n",
    "- `Percentuale Buy Box`: Si tratta della percentuale di visualizzazioni di pagine in cui compare la Buy Box (link \"Aggiungi al carrello\") e che consente ai clienti di aggiungere il prodotto al carrello.\n",
    "- `Conteggio medio delle offerte`: Il numero medio di offerte in vendita, nell'intervallo tempo. Il calcolo si basa sul numero totale di offerte e il numero totale di giorni nell'intervallo di tempo (1 giorno). \n",
    "\n",
    "Per quanto riguarda il numeo di istanza, attualmente si hanno dati rilevanti per 1080 giorni, quasi tre anni solare, che dovranno poi essere suddivisi in set di Training, Validation e Test. Questi spaziano da maggio 2017 a maggio 2020"
   ]
  },
  {
   "cell_type": "code",
   "execution_count": 14,
   "metadata": {},
   "outputs": [
    {
     "data": {
      "text/plain": [
       "1080"
      ]
     },
     "execution_count": 14,
     "metadata": {},
     "output_type": "execute_result"
    }
   ],
   "source": [
    "len(Vendite)"
   ]
  },
  {
   "cell_type": "markdown",
   "metadata": {},
   "source": [
    "### B - Analisi esplorativa\n",
    "\n",
    "Iniziamo ottenendo le statistiche generali sulle variabili sopra commentate"
   ]
  },
  {
   "cell_type": "code",
   "execution_count": 15,
   "metadata": {
    "scrolled": true
   },
   "outputs": [
    {
     "data": {
      "text/html": [
       "<div>\n",
       "<style scoped>\n",
       "    .dataframe tbody tr th:only-of-type {\n",
       "        vertical-align: middle;\n",
       "    }\n",
       "\n",
       "    .dataframe tbody tr th {\n",
       "        vertical-align: top;\n",
       "    }\n",
       "\n",
       "    .dataframe thead th {\n",
       "        text-align: right;\n",
       "    }\n",
       "</style>\n",
       "<table border=\"1\" class=\"dataframe\">\n",
       "  <thead>\n",
       "    <tr style=\"text-align: right;\">\n",
       "      <th></th>\n",
       "      <th>ordini</th>\n",
       "      <th>prezzo_medio</th>\n",
       "      <th>visualizzazioni</th>\n",
       "      <th>sessioni</th>\n",
       "      <th>per_buybox</th>\n",
       "      <th>offerte_attive</th>\n",
       "    </tr>\n",
       "  </thead>\n",
       "  <tbody>\n",
       "    <tr>\n",
       "      <th>count</th>\n",
       "      <td>1080.000000</td>\n",
       "      <td>1080.000000</td>\n",
       "      <td>1080.000000</td>\n",
       "      <td>1080.000000</td>\n",
       "      <td>1080.000000</td>\n",
       "      <td>1080.000000</td>\n",
       "    </tr>\n",
       "    <tr>\n",
       "      <th>mean</th>\n",
       "      <td>5.210185</td>\n",
       "      <td>21.797769</td>\n",
       "      <td>94.873148</td>\n",
       "      <td>58.720370</td>\n",
       "      <td>72.525000</td>\n",
       "      <td>5.794756</td>\n",
       "    </tr>\n",
       "    <tr>\n",
       "      <th>std</th>\n",
       "      <td>3.608415</td>\n",
       "      <td>3.674146</td>\n",
       "      <td>58.868459</td>\n",
       "      <td>36.294077</td>\n",
       "      <td>20.380153</td>\n",
       "      <td>0.937160</td>\n",
       "    </tr>\n",
       "    <tr>\n",
       "      <th>min</th>\n",
       "      <td>0.000000</td>\n",
       "      <td>0.000000</td>\n",
       "      <td>7.000000</td>\n",
       "      <td>6.000000</td>\n",
       "      <td>8.000000</td>\n",
       "      <td>1.000000</td>\n",
       "    </tr>\n",
       "    <tr>\n",
       "      <th>25%</th>\n",
       "      <td>3.000000</td>\n",
       "      <td>21.240000</td>\n",
       "      <td>53.750000</td>\n",
       "      <td>34.000000</td>\n",
       "      <td>57.000000</td>\n",
       "      <td>6.000000</td>\n",
       "    </tr>\n",
       "    <tr>\n",
       "      <th>50%</th>\n",
       "      <td>4.000000</td>\n",
       "      <td>21.240000</td>\n",
       "      <td>83.000000</td>\n",
       "      <td>52.500000</td>\n",
       "      <td>72.000000</td>\n",
       "      <td>6.000000</td>\n",
       "    </tr>\n",
       "    <tr>\n",
       "      <th>75%</th>\n",
       "      <td>7.000000</td>\n",
       "      <td>23.240000</td>\n",
       "      <td>121.000000</td>\n",
       "      <td>73.000000</td>\n",
       "      <td>91.000000</td>\n",
       "      <td>6.000000</td>\n",
       "    </tr>\n",
       "    <tr>\n",
       "      <th>max</th>\n",
       "      <td>26.000000</td>\n",
       "      <td>31.990000</td>\n",
       "      <td>309.000000</td>\n",
       "      <td>201.000000</td>\n",
       "      <td>100.000000</td>\n",
       "      <td>7.000000</td>\n",
       "    </tr>\n",
       "  </tbody>\n",
       "</table>\n",
       "</div>"
      ],
      "text/plain": [
       "            ordini  prezzo_medio  visualizzazioni     sessioni   per_buybox  \\\n",
       "count  1080.000000   1080.000000      1080.000000  1080.000000  1080.000000   \n",
       "mean      5.210185     21.797769        94.873148    58.720370    72.525000   \n",
       "std       3.608415      3.674146        58.868459    36.294077    20.380153   \n",
       "min       0.000000      0.000000         7.000000     6.000000     8.000000   \n",
       "25%       3.000000     21.240000        53.750000    34.000000    57.000000   \n",
       "50%       4.000000     21.240000        83.000000    52.500000    72.000000   \n",
       "75%       7.000000     23.240000       121.000000    73.000000    91.000000   \n",
       "max      26.000000     31.990000       309.000000   201.000000   100.000000   \n",
       "\n",
       "       offerte_attive  \n",
       "count     1080.000000  \n",
       "mean         5.794756  \n",
       "std          0.937160  \n",
       "min          1.000000  \n",
       "25%          6.000000  \n",
       "50%          6.000000  \n",
       "75%          6.000000  \n",
       "max          7.000000  "
      ]
     },
     "execution_count": 15,
     "metadata": {},
     "output_type": "execute_result"
    }
   ],
   "source": [
    "Vendite.describe()"
   ]
  },
  {
   "cell_type": "markdown",
   "metadata": {},
   "source": [
    "Con le giuste supposizioni possiamo identificale la feature `visualizzazioni` inclusa nelle `sessioni` poichè quest'ultima ne è un sotto insieme. Intuitamente, la sola comparsa nei risultati di ricerca non apporta un valore aggiuntivo della gia presente `sessione` che identifica la visita della pagina del prodotto, da dove si può finalizzare l'acquisto.\n",
    "\n",
    "Nei dati sopra descritti si evinche che gli ordini non assumono un range di valori molto sparsi, consideranzo il primo quartile di 3 ordini e il terzo quartile di 7 ordini."
   ]
  },
  {
   "cell_type": "code",
   "execution_count": 16,
   "metadata": {},
   "outputs": [
    {
     "data": {
      "image/png": "[encoded data removed]",
      "text/plain": [
       "<Figure size 1152x576 with 1 Axes>"
      ]
     },
     "metadata": {
      "needs_background": "light"
     },
     "output_type": "display_data"
    }
   ],
   "source": [
    "plt.figure(figsize=(16,8)) #change your figure size\n",
    "plt.hist(Vendite[\"sessioni\"], bins= 50);"
   ]
  },
  {
   "cell_type": "markdown",
   "metadata": {},
   "source": [
    "Aggiungiamo la colonna giorno della settimana per ordinare i grafici box"
   ]
  },
  {
   "cell_type": "code",
   "execution_count": 17,
   "metadata": {
    "scrolled": false
   },
   "outputs": [
    {
     "data": {
      "image/png": "[encoded data removed]",
      "text/plain": [
       "<Figure size 1152x576 with 1 Axes>"
      ]
     },
     "metadata": {
      "needs_background": "light"
     },
     "output_type": "display_data"
    }
   ],
   "source": [
    "Vendite.loc[:,\"giorno\"] = Vendite.index.dayofweek\n",
    "columns_my_order = ['Monday', 'Tusday', 'Wednesday', 'Thursday', \"Friday\", \"Saturday\", \"Sunday\"]\n",
    "\n",
    "Vendite.boxplot(column=\"ordini\", by=\"giorno\", showmeans=True, figsize=(16, 8));\n"
   ]
  },
  {
   "cell_type": "markdown",
   "metadata": {},
   "source": [
    "Osservando il grafico si evince che nonostanze durante i giorni intermedi della settimana si verifichino più valori outlier, i weekend sono i giorni che registrano più vendite. "
   ]
  },
  {
   "cell_type": "code",
   "execution_count": 18,
   "metadata": {},
   "outputs": [
    {
     "data": {
      "image/png": "[encoded data removed]",
      "text/plain": [
       "<Figure size 1080x576 with 1 Axes>"
      ]
     },
     "metadata": {
      "needs_background": "light"
     },
     "output_type": "display_data"
    }
   ],
   "source": [
    "Vendite.boxplot(column=\"sessioni\", by=\"giorno\", showmeans=True, figsize=(15, 8));"
   ]
  },
  {
   "cell_type": "markdown",
   "metadata": {},
   "source": [
    "Come poteva essere prevedibile, anche i dati relativi alle sessioni sono più marcati durante i weekend."
   ]
  },
  {
   "cell_type": "code",
   "execution_count": 19,
   "metadata": {
    "scrolled": true
   },
   "outputs": [
    {
     "data": {
      "image/png": "[encoded data removed]",
      "text/plain": [
       "<Figure size 432x288 with 1 Axes>"
      ]
     },
     "metadata": {
      "needs_background": "light"
     },
     "output_type": "display_data"
    }
   ],
   "source": [
    "Vendite.plot.scatter(\"sessioni\",\"ordini\");"
   ]
  },
  {
   "cell_type": "markdown",
   "metadata": {},
   "source": [
    "- Il grafico evidenzia che tendenzialmente gli ordini (come prevedibile) sono tanto più alti quanto lo sono le sessioni."
   ]
  },
  {
   "cell_type": "code",
   "execution_count": 20,
   "metadata": {},
   "outputs": [
    {
     "data": {
      "image/png": "[encoded data removed]",
      "text/plain": [
       "<Figure size 432x288 with 1 Axes>"
      ]
     },
     "metadata": {
      "needs_background": "light"
     },
     "output_type": "display_data"
    }
   ],
   "source": [
    "Vendite.plot.scatter(\"per_buybox\",\"ordini\");"
   ]
  },
  {
   "cell_type": "code",
   "execution_count": 21,
   "metadata": {
    "scrolled": false
   },
   "outputs": [
    {
     "data": {
      "image/png": "[encoded data removed]",
      "text/plain": [
       "<Figure size 432x288 with 1 Axes>"
      ]
     },
     "metadata": {
      "needs_background": "light"
     },
     "output_type": "display_data"
    },
    {
     "data": {
      "image/png": "[encoded data removed]",
      "text/plain": [
       "<Figure size 432x288 with 1 Axes>"
      ]
     },
     "metadata": {
      "needs_background": "light"
     },
     "output_type": "display_data"
    },
    {
     "data": {
      "image/png": "[encoded data removed]",
      "text/plain": [
       "<Figure size 432x288 with 1 Axes>"
      ]
     },
     "metadata": {
      "needs_background": "light"
     },
     "output_type": "display_data"
    }
   ],
   "source": [
    "Vendite.plot.scatter(\"prezzo_medio\",\"ordini\");\n",
    "Vendite.plot.scatter(\"visualizzazioni\",\"ordini\");\n",
    "Vendite.plot.scatter(\"offerte_attive\",\"ordini\");"
   ]
  },
  {
   "cell_type": "code",
   "execution_count": 22,
   "metadata": {
    "scrolled": true
   },
   "outputs": [
    {
     "data": {
      "text/html": [
       "<div>\n",
       "<style scoped>\n",
       "    .dataframe tbody tr th:only-of-type {\n",
       "        vertical-align: middle;\n",
       "    }\n",
       "\n",
       "    .dataframe tbody tr th {\n",
       "        vertical-align: top;\n",
       "    }\n",
       "\n",
       "    .dataframe thead th {\n",
       "        text-align: right;\n",
       "    }\n",
       "</style>\n",
       "<table border=\"1\" class=\"dataframe\">\n",
       "  <thead>\n",
       "    <tr style=\"text-align: right;\">\n",
       "      <th></th>\n",
       "      <th>ordini</th>\n",
       "    </tr>\n",
       "  </thead>\n",
       "  <tbody>\n",
       "    <tr>\n",
       "      <th>prezzo_medio</th>\n",
       "      <td>0.407855</td>\n",
       "    </tr>\n",
       "    <tr>\n",
       "      <th>visualizzazioni</th>\n",
       "      <td>0.747777</td>\n",
       "    </tr>\n",
       "    <tr>\n",
       "      <th>sessioni</th>\n",
       "      <td>0.748732</td>\n",
       "    </tr>\n",
       "    <tr>\n",
       "      <th>per_buybox</th>\n",
       "      <td>0.258814</td>\n",
       "    </tr>\n",
       "    <tr>\n",
       "      <th>offerte_attive</th>\n",
       "      <td>0.0474824</td>\n",
       "    </tr>\n",
       "  </tbody>\n",
       "</table>\n",
       "</div>"
      ],
      "text/plain": [
       "                    ordini\n",
       "prezzo_medio      0.407855\n",
       "visualizzazioni   0.747777\n",
       "sessioni          0.748732\n",
       "per_buybox        0.258814\n",
       "offerte_attive   0.0474824"
      ]
     },
     "execution_count": 22,
     "metadata": {},
     "output_type": "execute_result"
    }
   ],
   "source": [
    "#Correlazione di Pearson\n",
    "corr = pd.DataFrame(columns=[\"ordini\"], \n",
    "             index=Vendite.columns)\n",
    "corr.drop([\"ordini\", \"giorno\"], inplace=True)\n",
    "for r in corr.index:\n",
    "    corr.loc[r, :] = np.corrcoef(Vendite[\"ordini\"], Vendite[r])[0, 1]\n",
    "corr"
   ]
  },
  {
   "cell_type": "markdown",
   "metadata": {},
   "source": [
    "- Il _coefficiente di correlazione di Pearson è un indice usato per valutare numericamente il grado di correlazione tra due variabili X e Y\n",
    "- Il suo valore è compreso tra -1 e 1\n",
    "  - valori vicini a 1 indicano correlazione diretta (Y cresce al crescere di X)\n",
    "  - valori vicini a -1 indicano correlazione inversa (Y descresce al crescere di X)\n",
    "  - valori vicini a 0 indicano assenza di correlazione\n",
    "- Date due variabili casuali $X$ e $Y$, il coefficiente è il rapporto tra la loro covarianza $\\sigma_{XY}$ e il prodotto delle deviazioni standard $\\sigma_X$ e $\\sigma_Y$\n",
    "$$ \\rho(X,Y) = \\frac{\\sigma_{XY}}{\\sigma_X\\sigma_Y} $$\n",
    "\n",
    "Usiamo la funzione di numpy per più immediatezza e pulizia di calcolo e scopriamo che come i grafici suggerivano le visualizzazioni e le sessioni sono i dati più correlati con gli ordini. Il numero di offerte attive ha una correlazione di quasi 0, cioè assente. Possiamo identificare una certa correlazione con il prezzo_medio e la % di buy box"
   ]
  },
  {
   "cell_type": "code",
   "execution_count": 23,
   "metadata": {},
   "outputs": [],
   "source": [
    "features = {\"sessioni\": Vendite[\"sessioni\"], \n",
    "            \"visualizzazioni\": Vendite[\"visualizzazioni\"], \n",
    "            \"prezzo_medio\": Vendite[\"prezzo_medio\"], \n",
    "            \"per_buybox\": Vendite[\"per_buybox\"], \n",
    "            \"offerte_attive\": Vendite[\"offerte_attive\"], }"
   ]
  },
  {
   "cell_type": "markdown",
   "metadata": {},
   "source": [
    "## 2 - Elaborazione Features\n",
    "\n",
    "Procediamo con l'importazione di moduli sklearn, definizione di funzioni utili in questa sezione e le successive e la separazione del set in traning e validation."
   ]
  },
  {
   "cell_type": "code",
   "execution_count": 24,
   "metadata": {},
   "outputs": [],
   "source": [
    "from sklearn.pipeline import Pipeline\n",
    "\n",
    "from sklearn.linear_model import LinearRegression\n",
    "from sklearn.linear_model import Ridge                  #Regolarizzazione L2\n",
    "from sklearn.linear_model import Lasso\n",
    "from sklearn.linear_model import ElasticNet\n",
    "\n",
    "from sklearn.preprocessing import PolynomialFeatures\n",
    "from sklearn.preprocessing import StandardScaler\n",
    "\n",
    "from sklearn.metrics import r2_score\n",
    "from sklearn.metrics import mean_squared_error\n",
    "from scipy.stats import norm"
   ]
  },
  {
   "cell_type": "code",
   "execution_count": 25,
   "metadata": {},
   "outputs": [],
   "source": [
    "def relative_error(y_true, y_pred):\n",
    "    return np.mean(np.abs((y_true - y_pred) / y_true))"
   ]
  },
  {
   "cell_type": "code",
   "execution_count": 26,
   "metadata": {},
   "outputs": [],
   "source": [
    "def print_eval(X, y, model):\n",
    "    preds = model.predict(X)\n",
    "    print(\"   Mean squared error: {:.5}\".format(mean_squared_error(y, preds)))\n",
    "    print(\"       Relative error: {:.5%}\".format(relative_error(y, preds)))\n",
    "    print(\"R-squared coefficient: {:.5}\".format(r2_score(y, preds)))"
   ]
  },
  {
   "cell_type": "code",
   "execution_count": 27,
   "metadata": {},
   "outputs": [],
   "source": [
    "def plot_model_on_data(X, y, model=None):\n",
    "    plt.scatter(X, y)\n",
    "    if model is not None:\n",
    "        xlim, ylim = plt.xlim(), plt.ylim()\n",
    "        line_x = np.linspace(xlim[0], xlim[1], 100)\n",
    "        line_y = model.predict(line_x[:, None])\n",
    "        plt.plot(line_x, line_y, c=\"red\", lw=3)\n",
    "        plt.xlim(xlim); plt.ylim(ylim)\n",
    "    plt.grid()\n",
    "    plt.xlabel(\"Sessioni\"); plt.ylabel(\"Ordini\")"
   ]
  },
  {
   "cell_type": "code",
   "execution_count": 28,
   "metadata": {},
   "outputs": [],
   "source": [
    "def split_before(X, y, date):\n",
    "    is_train = X.index < date\n",
    "    X_train = X.loc[is_train]\n",
    "    y_train = y.loc[is_train]\n",
    "    X_val = X.loc[~is_train]\n",
    "    y_val = y.loc[~is_train]\n",
    "    return X_train, X_val, y_train, y_val"
   ]
  },
  {
   "cell_type": "code",
   "execution_count": 29,
   "metadata": {},
   "outputs": [],
   "source": [
    "# Create a function called lasso,\n",
    "def lasso(X, y, alphas):\n",
    "    '''\n",
    "    Takes in a list of alphas. Outputs a dataframe containing the coefficients of lasso regressions from each alpha.\n",
    "    '''\n",
    "    # Create an empty data frame\n",
    "    df = pd.DataFrame()\n",
    "    \n",
    "    # Create a column of feature names\n",
    "    df['Feature Name'] = X.columns\n",
    "    \n",
    "    # For each alpha value in the list of alpha values,\n",
    "    for alpha in alphas:\n",
    "        # Create a lasso regression with that alpha value,\n",
    "        lasso = Lasso(alpha=alpha)\n",
    "        \n",
    "        # Fit the lasso regression\n",
    "        lasso.fit(X, y)\n",
    "        \n",
    "        # Create a column name for that alpha value\n",
    "        column_name = 'Alpha %f' % alpha\n",
    "\n",
    "        # Create a column of coefficient values\n",
    "        df[column_name] = lasso.coef_\n",
    "        \n",
    "    # Return the datafram    \n",
    "    return df"
   ]
  },
  {
   "cell_type": "code",
   "execution_count": 30,
   "metadata": {},
   "outputs": [],
   "source": [
    "def diff_interval(a1, a2, N1, N2, Z):\n",
    "    d = abs(a1 - a2)\n",
    "    sd = np.sqrt((a1 * (1 - a1) / N1) + (a2 * (1 - a2) / N2))\n",
    "    return d - Z * sd, d + Z * sd"
   ]
  },
  {
   "cell_type": "code",
   "execution_count": 31,
   "metadata": {},
   "outputs": [],
   "source": [
    "# Se l'intervallo ottenuto non include lo zero (l'estremo inferiore è positivo), \n",
    "# abbiamo la certezza al 95% (o altro livello di confidenza) che il modello con \n",
    "# accuratezza stimata maggiore sia effettivamente migliore\n",
    "\n",
    "def model_diff_interval(m1, m2, X, y, X1=0, y1=0, P=0.95, same=True):\n",
    "    if(same):\n",
    "        X1 = X\n",
    "        y1 = y\n",
    "    a1 = m1.score(X, y)\n",
    "    a2 = m2.score(X1, y1)\n",
    "    N = len(X)\n",
    "    Z = norm.ppf((1 + P) / 2)\n",
    "    return diff_interval(a1, a2, N, N, Z)"
   ]
  },
  {
   "cell_type": "code",
   "execution_count": 32,
   "metadata": {},
   "outputs": [],
   "source": [
    "def conf_interval(a, N, Z=1.96):\n",
    "    c = (2 * N * a + Z**2) / (2 * (N + Z**2))\n",
    "    d = Z * np.sqrt(Z**2 + 4*N*a - 4*N*a**2) / (2 * (N + Z**2))\n",
    "    return c - d, c + d"
   ]
  },
  {
   "cell_type": "code",
   "execution_count": 33,
   "metadata": {},
   "outputs": [],
   "source": [
    "def model_conf_interval(model, X, y, level=0.95):\n",
    "    a = model.score(X, y)\n",
    "    N = len(X)\n",
    "    Z = norm.ppf((1 + level) / 2)\n",
    "    return conf_interval(a, N, Z)"
   ]
  },
  {
   "cell_type": "markdown",
   "metadata": {},
   "source": [
    "### Divisione tra training e validation set\n",
    "\n",
    "Per verificare se un modello generalizza correttamente i dati su cui è addestrato, è importante **validarlo su dati diversi**.\n",
    "Il metodo _hold-out_ prevede di dividere i dati a disposizione in\n",
    "  - un _training set_ su cui addestrare il modello\n",
    "  - un _validation set_ su cui calcolare le metriche di accuratezza del modello addestrato\n",
    "La proporzione tra training e validation set è arbitraria, possono essere ad es. 50-50 e 66-33, noi faremo riferimento a quest'ultimo esempio di suddivizione"
   ]
  },
  {
   "cell_type": "code",
   "execution_count": 34,
   "metadata": {},
   "outputs": [],
   "source": [
    "y = Vendite[\"ordini\"]\n",
    "X = pd.DataFrame(features)"
   ]
  },
  {
   "cell_type": "code",
   "execution_count": 35,
   "metadata": {},
   "outputs": [],
   "source": [
    "X_train, X_val, y_train, y_val = split_before(X, y, \"2019-05-27\")"
   ]
  },
  {
   "cell_type": "code",
   "execution_count": 36,
   "metadata": {
    "scrolled": false
   },
   "outputs": [
    {
     "name": "stdout",
     "output_type": "stream",
     "text": [
      "train set: \t 0.6601851851851852\n",
      "val set: \t 0.3398148148148148\n"
     ]
    }
   ],
   "source": [
    "print(\"train set: \\t\", X_train.shape[0] / X.shape[0])\n",
    "print(\"val set: \\t\", X_val.shape[0] / X.shape[0])"
   ]
  },
  {
   "cell_type": "code",
   "execution_count": 37,
   "metadata": {},
   "outputs": [
    {
     "data": {
      "image/png": "[encoded data removed]",
      "text/plain": [
       "<Figure size 864x288 with 1 Axes>"
      ]
     },
     "metadata": {
      "needs_background": "light"
     },
     "output_type": "display_data"
    }
   ],
   "source": [
    "y_train.plot.hist(bins=40, figsize=(12, 4));"
   ]
  },
  {
   "cell_type": "markdown",
   "metadata": {},
   "source": [
    "### Confronto con un modello casuale\n",
    "\n",
    "- Per avere una valutazione più completa dei modelli che andremo ad ottenere, possiamo metterli a confronto con quello che accadrebbe prendendo decisioni casuali\n",
    "- Consideriamo un modello che predica dei valori $\\hat{\\Delta}_d$ casuali, ma con la stessa distribuzione dei valori $\\Delta_d$ reali\n",
    "- Disegnando un istogramma, vediamo che $\\Delta_d$ ha una distribuzione quasi normale, riusciamo a replicare una distribuzione simile invertendo i valori negativi e facendo dei tentativi di seed."
   ]
  },
  {
   "cell_type": "code",
   "execution_count": 38,
   "metadata": {
    "scrolled": true
   },
   "outputs": [
    {
     "data": {
      "image/png": "[encoded data removed]",
      "text/plain": [
       "<Figure size 864x216 with 1 Axes>"
      ]
     },
     "metadata": {
      "needs_background": "light"
     },
     "output_type": "display_data"
    }
   ],
   "source": [
    "np.random.seed(5555415)\n",
    "random_preds = np.random.normal(\n",
    "    y_train.mean(),     # centro (media)\n",
    "    y_train.std(),    # scala (dev. standard)\n",
    "    len(y_val)          # numero di campioni\n",
    ")\n",
    "random_preds = pd.array(list(map(lambda i: -i if(i < 0) else i, random_preds)))\n",
    "plt.figure(figsize=(12, 3))\n",
    "plt.hist(random_preds.astype(int), bins=40);"
   ]
  },
  {
   "cell_type": "code",
   "execution_count": 39,
   "metadata": {},
   "outputs": [],
   "source": [
    "def test_random(X, y, model, P=0.99):\n",
    "    preds = model.predict(X)\n",
    "    a1 = model.score(X, y)\n",
    "    a2 = r2_score(y, random_preds)\n",
    "    N = len(X)\n",
    "    Z = norm.ppf((1 + P) / 2)\n",
    "    print(\"MODEL    Mean squared error: {:.5}\".format(mean_squared_error(y, preds)))\n",
    "    print(\"MODEL        Relative error: {:.5%}\".format(relative_error(y, preds)))\n",
    "    print(\"MODEL R-squared coefficient: {:.5}\".format(r2_score(y, preds)))\n",
    "    print(\"\")\n",
    "    print(\"RANDOM   Mean squared error: {:.5}\".format(mean_squared_error(y, random_preds)))\n",
    "    print(\"RANDOM       Relative error: {:.5%}\".format(relative_error(y, random_preds)))\n",
    "    print(\"RANDOM R-squared coefficient: {:.5}\".format(a2))\n",
    "    print(\"\")\n",
    "    # Non possiamo utilizzare l'intervallo di confidenza\n",
    "    #print(\"CONFIDENZA MODELLO RANDOM 99%: \", diff_interval(a1, a2, N, N, Z))"
   ]
  },
  {
   "cell_type": "markdown",
   "metadata": {},
   "source": [
    "Nella definizione della funzione, che verrà utilizzata per confrontare i modelli con una modello di generazione random, non è stato possibile utilizzare l'intervallo di confidenza con la metrica r^2 delle predizini random. Questo perchè il calcolo del parametro di confidenza si basa sulla risoluzione di una radice quadrata che con un parametro di accuratezza r^2 arbitrariamente negativo (modello random) diventa di risoluzione impossibile (entra nello spazio dei numeri immaginari).\n",
    "\n",
    "Per questo motivo faremo riferimento alle sole metriche MSE, RE e R^2.\n",
    "\n",
    "Utilizzeremo invece il confronto degli intervalli di confidenza al momento della selezione dei modelli migliori."
   ]
  },
  {
   "cell_type": "markdown",
   "metadata": {},
   "source": [
    "### Lasso\n",
    "\n",
    "Di seguito notiamo la rilevanza di ogni feature con la regressione lasso. Osserviamo come aumentando il valore dei `alpha` le feature che vengono escluse prima sono `offerte_attive` e `prezzo_medio` nonostante entrambe mostrassero una correlazione di Pearson maggiore di 0.4. La `per_buybox` invece, che mostrava una correlazione minore, sembra avere una modesta rilevanza."
   ]
  },
  {
   "cell_type": "code",
   "execution_count": 40,
   "metadata": {
    "scrolled": false
   },
   "outputs": [
    {
     "data": {
      "text/html": [
       "<div>\n",
       "<style scoped>\n",
       "    .dataframe tbody tr th:only-of-type {\n",
       "        vertical-align: middle;\n",
       "    }\n",
       "\n",
       "    .dataframe tbody tr th {\n",
       "        vertical-align: top;\n",
       "    }\n",
       "\n",
       "    .dataframe thead th {\n",
       "        text-align: right;\n",
       "    }\n",
       "</style>\n",
       "<table border=\"1\" class=\"dataframe\">\n",
       "  <thead>\n",
       "    <tr style=\"text-align: right;\">\n",
       "      <th></th>\n",
       "      <th>Feature Name</th>\n",
       "      <th>Alpha 0.001000</th>\n",
       "      <th>Alpha 0.334222</th>\n",
       "      <th>Alpha 0.667444</th>\n",
       "      <th>Alpha 1.000667</th>\n",
       "      <th>Alpha 1.333889</th>\n",
       "      <th>Alpha 1.667111</th>\n",
       "      <th>Alpha 2.000333</th>\n",
       "      <th>Alpha 2.333556</th>\n",
       "      <th>Alpha 2.666778</th>\n",
       "      <th>Alpha 3.000000</th>\n",
       "    </tr>\n",
       "  </thead>\n",
       "  <tbody>\n",
       "    <tr>\n",
       "      <th>0</th>\n",
       "      <td>sessioni</td>\n",
       "      <td>0.051118</td>\n",
       "      <td>0.049280</td>\n",
       "      <td>0.048544</td>\n",
       "      <td>0.047803</td>\n",
       "      <td>0.047070</td>\n",
       "      <td>0.046343</td>\n",
       "      <td>0.045208</td>\n",
       "      <td>0.044025</td>\n",
       "      <td>0.042838</td>\n",
       "      <td>0.041655</td>\n",
       "    </tr>\n",
       "    <tr>\n",
       "      <th>1</th>\n",
       "      <td>visualizzazioni</td>\n",
       "      <td>0.011726</td>\n",
       "      <td>0.013173</td>\n",
       "      <td>0.014179</td>\n",
       "      <td>0.015187</td>\n",
       "      <td>0.016190</td>\n",
       "      <td>0.017191</td>\n",
       "      <td>0.017889</td>\n",
       "      <td>0.018548</td>\n",
       "      <td>0.019209</td>\n",
       "      <td>0.019868</td>\n",
       "    </tr>\n",
       "    <tr>\n",
       "      <th>2</th>\n",
       "      <td>prezzo_medio</td>\n",
       "      <td>0.137693</td>\n",
       "      <td>0.112930</td>\n",
       "      <td>0.085462</td>\n",
       "      <td>0.057994</td>\n",
       "      <td>0.030525</td>\n",
       "      <td>0.003054</td>\n",
       "      <td>0.000000</td>\n",
       "      <td>0.000000</td>\n",
       "      <td>0.000000</td>\n",
       "      <td>0.000000</td>\n",
       "    </tr>\n",
       "    <tr>\n",
       "      <th>3</th>\n",
       "      <td>per_buybox</td>\n",
       "      <td>0.028447</td>\n",
       "      <td>0.026441</td>\n",
       "      <td>0.025612</td>\n",
       "      <td>0.024783</td>\n",
       "      <td>0.023956</td>\n",
       "      <td>0.023130</td>\n",
       "      <td>0.022094</td>\n",
       "      <td>0.021031</td>\n",
       "      <td>0.019968</td>\n",
       "      <td>0.018905</td>\n",
       "    </tr>\n",
       "    <tr>\n",
       "      <th>4</th>\n",
       "      <td>offerte_attive</td>\n",
       "      <td>-0.157141</td>\n",
       "      <td>-0.000000</td>\n",
       "      <td>-0.000000</td>\n",
       "      <td>-0.000000</td>\n",
       "      <td>-0.000000</td>\n",
       "      <td>-0.000000</td>\n",
       "      <td>-0.000000</td>\n",
       "      <td>-0.000000</td>\n",
       "      <td>-0.000000</td>\n",
       "      <td>-0.000000</td>\n",
       "    </tr>\n",
       "  </tbody>\n",
       "</table>\n",
       "</div>"
      ],
      "text/plain": [
       "      Feature Name  Alpha 0.001000  Alpha 0.334222  Alpha 0.667444  \\\n",
       "0         sessioni        0.051118        0.049280        0.048544   \n",
       "1  visualizzazioni        0.011726        0.013173        0.014179   \n",
       "2     prezzo_medio        0.137693        0.112930        0.085462   \n",
       "3       per_buybox        0.028447        0.026441        0.025612   \n",
       "4   offerte_attive       -0.157141       -0.000000       -0.000000   \n",
       "\n",
       "   Alpha 1.000667  Alpha 1.333889  Alpha 1.667111  Alpha 2.000333  \\\n",
       "0        0.047803        0.047070        0.046343        0.045208   \n",
       "1        0.015187        0.016190        0.017191        0.017889   \n",
       "2        0.057994        0.030525        0.003054        0.000000   \n",
       "3        0.024783        0.023956        0.023130        0.022094   \n",
       "4       -0.000000       -0.000000       -0.000000       -0.000000   \n",
       "\n",
       "   Alpha 2.333556  Alpha 2.666778  Alpha 3.000000  \n",
       "0        0.044025        0.042838        0.041655  \n",
       "1        0.018548        0.019209        0.019868  \n",
       "2        0.000000        0.000000        0.000000  \n",
       "3        0.021031        0.019968        0.018905  \n",
       "4       -0.000000       -0.000000       -0.000000  "
      ]
     },
     "execution_count": 40,
     "metadata": {},
     "output_type": "execute_result"
    }
   ],
   "source": [
    "lasso(X, y, np.linspace(0.001, 3, 10))"
   ]
  },
  {
   "cell_type": "code",
   "execution_count": 41,
   "metadata": {},
   "outputs": [],
   "source": [
    "y_ses = Vendite[\"ordini\"]\n",
    "X_ses = pd.DataFrame(features[\"sessioni\"])\n",
    "X_ses_train, X_ses_val, y_ses_train, y_ses_val = split_before(X_ses, y_ses, \"2019-05-27\")\n",
    "\n",
    "y_some = Vendite[\"ordini\"]\n",
    "X_some = pd.DataFrame(features).loc[:, [\"sessioni\", \"visualizzazioni\", \"per_buybox\"]]\n",
    "X_some_train, X_some_val, y_some_train, y_some_val = split_before(X_some, y_some, \"2019-05-27\")"
   ]
  },
  {
   "cell_type": "markdown",
   "metadata": {},
   "source": [
    "### Standardizzazione"
   ]
  },
  {
   "cell_type": "markdown",
   "metadata": {},
   "source": [
    "Durante il preprocessing risulta utile utilizzare lo `StandardScalare` per mantenere la stessa distribuzione dei dati ma con media 0 e deviazione standard 1. Nell'esempio successivo viene mostrato come la standardizzazione dei dati è essenziale quando vendono utilizzate delle feature polinominali di grado elevato. Per un primo momento utilizziamo la sola feature `sessioni`"
   ]
  },
  {
   "cell_type": "code",
   "execution_count": 42,
   "metadata": {},
   "outputs": [
    {
     "name": "stdout",
     "output_type": "stream",
     "text": [
      "   Mean squared error: 23.016\n",
      "       Relative error: 60.52542%\n",
      "R-squared coefficient: -0.5323\n"
     ]
    }
   ],
   "source": [
    "lnrstd1 = Pipeline([\n",
    "    (\"poly\",   PolynomialFeatures(degree=20, include_bias=False)),\n",
    "    #(\"scale\",  StandardScaler()),   # <--\n",
    "    (\"linreg\", LinearRegression())\n",
    "])\n",
    "lnrstd1.fit(X_ses_train, y_ses_train)\n",
    "print_eval(X_ses_val, y_ses_val, lnrstd1)"
   ]
  },
  {
   "cell_type": "code",
   "execution_count": 43,
   "metadata": {
    "scrolled": false
   },
   "outputs": [
    {
     "name": "stdout",
     "output_type": "stream",
     "text": [
      "MODEL    Mean squared error: 18.537\n",
      "MODEL        Relative error: 34.82648%\n",
      "MODEL R-squared coefficient: -0.2341\n",
      "\n",
      "RANDOM   Mean squared error: 24.401\n",
      "RANDOM       Relative error: 85.31813%\n",
      "RANDOM R-squared coefficient: -0.62453\n",
      "\n"
     ]
    },
    {
     "data": {
      "image/png": "[encoded data removed]",
      "text/plain": [
       "<Figure size 432x288 with 1 Axes>"
      ]
     },
     "metadata": {
      "needs_background": "light"
     },
     "output_type": "display_data"
    }
   ],
   "source": [
    "lnrstd2 = Pipeline([\n",
    "    (\"poly\",   PolynomialFeatures(degree=20, include_bias=False)),\n",
    "    (\"scale\",  StandardScaler()),   # <--\n",
    "    (\"linreg\", LinearRegression())\n",
    "])\n",
    "lnrstd2.fit(X_ses_train, y_ses_train)\n",
    "test_random(X_ses_val, y_ses_val, lnrstd2)\n",
    "plot_model_on_data(X_ses_val, y_ses_val, lnrstd2)"
   ]
  },
  {
   "cell_type": "markdown",
   "metadata": {},
   "source": [
    "In questo ultimo modello, l'over-fitting agli estremi e a 3/4 del grafico puo essere risolto con una regressione Ridge. Proseguiamo confrontando modelli generati con e senza feature risultate poco rilevanti dalla regressione lasso."
   ]
  },
  {
   "cell_type": "code",
   "execution_count": 44,
   "metadata": {},
   "outputs": [
    {
     "name": "stdout",
     "output_type": "stream",
     "text": [
      "   Mean squared error: 3.156\n",
      "       Relative error: 25.47884%\n",
      "R-squared coefficient: 0.78988\n"
     ]
    }
   ],
   "source": [
    "some1 = Pipeline([\n",
    "    (\"poly\",   PolynomialFeatures(degree=2, include_bias=False)),\n",
    "    (\"scale\",  StandardScaler()),\n",
    "    (\"linreg\", LinearRegression())\n",
    "])\n",
    "some1.fit(X_some_train, y_some_train)\n",
    "print_eval(X_some_val, y_some_val, some1)"
   ]
  },
  {
   "cell_type": "code",
   "execution_count": 45,
   "metadata": {},
   "outputs": [
    {
     "name": "stdout",
     "output_type": "stream",
     "text": [
      "   Mean squared error: 3.1198\n",
      "       Relative error: 24.44845%\n",
      "R-squared coefficient: 0.7923\n"
     ]
    }
   ],
   "source": [
    "all1 = Pipeline([\n",
    "    (\"poly\",   PolynomialFeatures(degree=2, include_bias=False)),\n",
    "    (\"scale\",  StandardScaler()),\n",
    "    (\"linreg\", LinearRegression())\n",
    "])\n",
    "all1.fit(X_train, y_train)\n",
    "print_eval(X_val, y_val, all1)"
   ]
  },
  {
   "cell_type": "code",
   "execution_count": 46,
   "metadata": {},
   "outputs": [
    {
     "name": "stdout",
     "output_type": "stream",
     "text": [
      "   Mean squared error: 5.4413\n",
      "       Relative error: 34.18079%\n",
      "R-squared coefficient: 0.63774\n"
     ]
    },
    {
     "data": {
      "image/png": "[encoded data removed]",
      "text/plain": [
       "<Figure size 432x288 with 1 Axes>"
      ]
     },
     "metadata": {
      "needs_background": "light"
     },
     "output_type": "display_data"
    }
   ],
   "source": [
    "only1 = Pipeline([\n",
    "    (\"poly\",   PolynomialFeatures(degree=2, include_bias=False)),\n",
    "    (\"scale\",  StandardScaler()),\n",
    "    (\"linreg\", LinearRegression())\n",
    "])\n",
    "only1.fit(X_ses_train, y_ses_train)\n",
    "print_eval(X_ses_val, y_ses_val, only1)\n",
    "plot_model_on_data(X_ses_val, y_ses_val, only1)"
   ]
  },
  {
   "cell_type": "code",
   "execution_count": 47,
   "metadata": {
    "scrolled": true
   },
   "outputs": [
    {
     "data": {
      "text/plain": [
       "(-0.05640414680292054, 0.06123482818592156)"
      ]
     },
     "execution_count": 47,
     "metadata": {},
     "output_type": "execute_result"
    }
   ],
   "source": [
    "model_diff_interval(\n",
    "    all1, \n",
    "    some1, \n",
    "    X_val, \n",
    "    y_val, \n",
    "    X1=X_some_val, \n",
    "    y1= y_val, \n",
    "    same=False \n",
    ")"
   ]
  },
  {
   "cell_type": "code",
   "execution_count": 48,
   "metadata": {},
   "outputs": [
    {
     "data": {
      "text/plain": [
       "(0.09021170331991177, 0.2189086628868914)"
      ]
     },
     "execution_count": 48,
     "metadata": {},
     "output_type": "execute_result"
    }
   ],
   "source": [
    "model_diff_interval(\n",
    "    all1, \n",
    "    only1, \n",
    "    X_val, \n",
    "    y_val, \n",
    "    X1=X_ses_val, \n",
    "    y1= y_ses_val, \n",
    "    same=False \n",
    ")"
   ]
  },
  {
   "cell_type": "markdown",
   "metadata": {},
   "source": [
    "La comparazione dei primi due modelli `all1` `some1`, con esclusione delle 2 feature che la reg. lasso ha mostrato poco rilevanti, evidenzia che i rispettivi intervalli di confidenza non sono sufficientemente diversi per definirne uno migliore dell'altro.\n",
    "\n",
    "Nell'ultimo esempio inceve, comparando `only1` con `all1` la metrica R^2 di quest'ultimo puo essere considerata migliore nei rispettivi intervalli di confidenza. Anche considerando le altre due metrice, `all1` produce risultati migliori. Questo sta a significare che prendere in considerazione altre feature oltre alla sola feature `sessioni`, che apparentemente è quella con più correlazione alla X, migliora il modello. Nel prossimo capitolo genereremo modelli più sofisticati che potenzialmente mostreranno in modo più marcato le differenze tra essi."
   ]
  },
  {
   "cell_type": "markdown",
   "metadata": {},
   "source": [
    "## 3 - Generazione Modelli\n",
    "In questo capitolo:\n",
    "- Creazione di modelli di apprendimento con tutti gli algoritmi visti a lezione\n",
    "- Uso di random search, grid search, cross fold e nested cross fold\n",
    "- Primi confronti tra modelli, calcolo metriche\n",
    "\n",
    "Dalle analisi precedenti, partiamo dal presupposto di utilizzare l'intero set di features."
   ]
  },
  {
   "cell_type": "code",
   "execution_count": 49,
   "metadata": {},
   "outputs": [],
   "source": [
    "from sklearn.model_selection import TimeSeriesSplit\n",
    "from sklearn.model_selection import cross_validate\n",
    "from sklearn.model_selection import GridSearchCV\n",
    "from sklearn.model_selection import KFold\n",
    "\n",
    "from sklearn.kernel_ridge import KernelRidge\n",
    "\n",
    "\n",
    "kf = KFold(5, shuffle=True, random_state=43)\n",
    "tss = TimeSeriesSplit(3)"
   ]
  },
  {
   "cell_type": "markdown",
   "metadata": {},
   "source": [
    "Definiamo una funzione che ci calcoli la nested-cross-val "
   ]
  },
  {
   "cell_type": "code",
   "execution_count": 50,
   "metadata": {},
   "outputs": [],
   "source": [
    "outer_cv = KFold(3, shuffle=True, random_state=42)\n",
    "inner_cv = KFold(5, shuffle=True, random_state=42)\n",
    "def nested_cv(model, grid, X, y):\n",
    "    results = []\n",
    "    bestscore = -1\n",
    "    for train_indices, val_indices in outer_cv.split(X, y):\n",
    "        gs = GridSearchCV(model, grid, cv=inner_cv);\n",
    "        gs.fit(X.iloc[train_indices], y.iloc[train_indices]);\n",
    "        score = gs.score(X.iloc[val_indices], y.iloc[val_indices]);\n",
    "        if(score > bestscore):\n",
    "            bestscore = score\n",
    "            bestmodel = gs\n",
    "        results.append({score : gs.best_params_})\n",
    "    return results, bestmodel"
   ]
  },
  {
   "cell_type": "markdown",
   "metadata": {},
   "source": [
    "### Validazione k-fold per serie temporali\n",
    "\n",
    "Nella cross validation a _k_ fold ordinaria, i dati vengono divisi in _k_ fold mescolati casualmente, nel caso come questo di una serie temporale, vogliamo però mantenere l'ordine temporale in training e validation set. Utilizzeremo `TimeSeriesSplit(k)`. Faremo comunque dei tentadivi con dei fold classici."
   ]
  },
  {
   "cell_type": "code",
   "execution_count": 51,
   "metadata": {
    "scrolled": true
   },
   "outputs": [
    {
     "name": "stdout",
     "output_type": "stream",
     "text": [
      "FOLD 1\n",
      "Training set da 2017-01-07 00:00:00 a 2018-12-02 00:00:00\n",
      "Validation set da 2018-01-03 00:00:00 a 2018-12-11 00:00:00\n",
      "FOLD 2\n",
      "Training set da 2017-01-07 00:00:00 a 2018-12-11 00:00:00\n",
      "Validation set da 2018-05-12 00:00:00 a 2019-12-08 00:00:00\n",
      "FOLD 3\n",
      "Training set da 2017-01-07 00:00:00 a 2019-12-08 00:00:00\n",
      "Validation set da 2019-01-09 00:00:00 a 2020-12-05 00:00:00\n"
     ]
    }
   ],
   "source": [
    "for i, (train, val) in enumerate(tss.split(X), start=1):\n",
    "    print(\"FOLD {}\".format(i))\n",
    "    train_dates = X.index[train]\n",
    "    val_dates = X.index[val]\n",
    "    print(\"Training set da {} a {}\".format(train_dates.min(), train_dates.max()))\n",
    "    print(\"Validation set da {} a {}\".format(val_dates.min(), val_dates.max()))"
   ]
  },
  {
   "cell_type": "markdown",
   "metadata": {},
   "source": [
    "Definiamo 4 modelli diversi in cui usiamo ElasticNet, LinearRegression, Kernel rbf, Kernel poly. Per ognuno di essi definiamo una serie di possibili scelte di iperparametri da utilizzare nelle successive GridSearch."
   ]
  },
  {
   "cell_type": "code",
   "execution_count": 52,
   "metadata": {},
   "outputs": [],
   "source": [
    "model0 = Pipeline([\n",
    "    (\"poly\", PolynomialFeatures(include_bias=False)),\n",
    "    (\"scale\", None),\n",
    "    (\"regr\", ElasticNet())\n",
    "])\n",
    "\n",
    "grid0 = {\n",
    "    \"scale\": [None, StandardScaler()],\n",
    "    \"regr__alpha\":    [0.1, 1, 10],\n",
    "    \"regr__l1_ratio\": [0.1, 0.2, 0.3]\n",
    "}\n",
    "\n",
    "##############################################\n",
    "\n",
    "model1 = Pipeline([\n",
    "    (\"poly\", PolynomialFeatures(include_bias=False)),\n",
    "    (\"scale\", None),\n",
    "    (\"regr\", LinearRegression())\n",
    "])\n",
    "\n",
    "grid1 = {\n",
    "    \"scale\": [None, StandardScaler()],\n",
    "    \"poly__degree\": list(range(1, 7))\n",
    "}\n",
    "\n",
    "##############################################\n",
    "\n",
    "model2 = Pipeline([\n",
    "    (\"scale\", None),\n",
    "    (\"regr\", KernelRidge(kernel=\"rbf\"))\n",
    "])\n",
    "\n",
    "grid2 = {\n",
    "    \"scale\": [None, StandardScaler()],\n",
    "    \"regr__gamma\": np.logspace(-3, 2, 6),\n",
    "    \"regr__alpha\": np.logspace(-3, 2, 6)\n",
    "}\n",
    "\n",
    "#############################################\n",
    "\n",
    "model3 = Pipeline([\n",
    "    (\"scale\",  StandardScaler()),\n",
    "    (\"regr\", KernelRidge(kernel=\"poly\"))\n",
    "])\n",
    "grid3 = {\n",
    "    \"regr__degree\": range(1, 10),\n",
    "    \"regr__alpha\": np.logspace(-2, 2, 8)\n",
    "}"
   ]
  },
  {
   "cell_type": "code",
   "execution_count": 53,
   "metadata": {},
   "outputs": [
    {
     "name": "stdout",
     "output_type": "stream",
     "text": [
      "\u001b[4m\u001b[1m\u001b[94m## MODEL 0 TSS ## \u001b[0m\n",
      "MODEL    Mean squared error: 4.614\n",
      "MODEL        Relative error: 36.48983%\n",
      "MODEL R-squared coefficient: 0.69281\n",
      "\n",
      "RANDOM   Mean squared error: 24.401\n",
      "RANDOM       Relative error: 85.31813%\n",
      "RANDOM R-squared coefficient: -0.62453\n",
      "\n",
      "\u001b[4m\u001b[1m\u001b[94m\n",
      "## MODEL 0 KF ## \u001b[0m\n",
      "MODEL    Mean squared error: 3.3592\n",
      "MODEL        Relative error: 26.18399%\n",
      "MODEL R-squared coefficient: 0.77635\n",
      "\n",
      "RANDOM   Mean squared error: 24.401\n",
      "RANDOM       Relative error: 85.31813%\n",
      "RANDOM R-squared coefficient: -0.62453\n",
      "\n",
      "\u001b[4m\u001b[1m\u001b[94m\n",
      "## MODEL 0 NESTED ## \u001b[0m\n",
      "MODEL    Mean squared error: 3.1721\n",
      "MODEL        Relative error: 24.66715%\n",
      "MODEL R-squared coefficient: 0.78881\n",
      "\n",
      "RANDOM   Mean squared error: 24.401\n",
      "RANDOM       Relative error: 85.31813%\n",
      "RANDOM R-squared coefficient: -0.62453\n",
      "\n"
     ]
    },
    {
     "data": {
      "text/plain": [
       "[{0.5265263200051856: {'regr__alpha': 1,\n",
       "   'regr__l1_ratio': 0.3,\n",
       "   'scale': None}},\n",
       " {0.6124370663902201: {'regr__alpha': 1,\n",
       "   'regr__l1_ratio': 0.3,\n",
       "   'scale': None}},\n",
       " {0.5607956224699234: {'regr__alpha': 1,\n",
       "   'regr__l1_ratio': 0.1,\n",
       "   'scale': None}}]"
      ]
     },
     "execution_count": 53,
     "metadata": {},
     "output_type": "execute_result"
    }
   ],
   "source": [
    "print(f\"{bcolors.UNDERLINE}{bcolors.BOLD}{bcolors.OKBLUE}## MODEL 0 TSS ## {bcolors.ENDC}\")\n",
    "gs00 = GridSearchCV(model0, grid0, cv=tss)\n",
    "gs00.fit(X_train, y_train)\n",
    "test_random(X_val, y_val, gs00)\n",
    "\n",
    "print(f\"{bcolors.UNDERLINE}{bcolors.BOLD}{bcolors.OKBLUE}\\n## MODEL 0 KF ## {bcolors.ENDC}\")\n",
    "gs01 = GridSearchCV(model0, grid0, cv=kf)\n",
    "gs01.fit(X_train, y_train)\n",
    "test_random(X_val, y_val, gs01)\n",
    "\n",
    "print(f\"{bcolors.UNDERLINE}{bcolors.BOLD}{bcolors.OKBLUE}\\n## MODEL 0 NESTED ## {bcolors.ENDC}\")\n",
    "#Utilizziamo il training set in modo tale da poter utilizzare il val set per la comparazione con il modello random\n",
    "nested_res02, nested_best_model02 = nested_cv(model0, grid0, X_train, y_train)\n",
    "test_random(X_val, y_val, nested_best_model02)\n",
    "nested_res02"
   ]
  },
  {
   "cell_type": "code",
   "execution_count": 54,
   "metadata": {},
   "outputs": [
    {
     "name": "stdout",
     "output_type": "stream",
     "text": [
      "\u001b[4m\u001b[1m\u001b[94m## MODEL 1 TSS ## \u001b[0m\n",
      "MODEL    Mean squared error: 4.6365\n",
      "MODEL        Relative error: 33.22213%\n",
      "MODEL R-squared coefficient: 0.69132\n",
      "\n",
      "RANDOM   Mean squared error: 24.401\n",
      "RANDOM       Relative error: 85.31813%\n",
      "RANDOM R-squared coefficient: -0.62453\n",
      "\n",
      "\u001b[4m\u001b[1m\u001b[94m\n",
      "## MODEL 1 KF ## \u001b[0m\n",
      "MODEL    Mean squared error: 3.9415\n",
      "MODEL        Relative error: 18.56537%\n",
      "MODEL R-squared coefficient: 0.73759\n",
      "\n",
      "RANDOM   Mean squared error: 24.401\n",
      "RANDOM       Relative error: 85.31813%\n",
      "RANDOM R-squared coefficient: -0.62453\n",
      "\n",
      "\u001b[4m\u001b[1m\u001b[94m\n",
      "## MODEL 1 NESTED ## \u001b[0m\n",
      "MODEL    Mean squared error: 2.9336\n",
      "MODEL        Relative error: 22.73171%\n",
      "MODEL R-squared coefficient: 0.80469\n",
      "\n",
      "RANDOM   Mean squared error: 24.401\n",
      "RANDOM       Relative error: 85.31813%\n",
      "RANDOM R-squared coefficient: -0.62453\n",
      "\n"
     ]
    },
    {
     "data": {
      "text/plain": [
       "[{0.5167538524492781: {'poly__degree': 2, 'scale': None}},\n",
       " {0.6149391034485121: {'poly__degree': 2, 'scale': None}},\n",
       " {0.5657776590856112: {'poly__degree': 2,\n",
       "   'scale': StandardScaler(copy=True, with_mean=True, with_std=True)}}]"
      ]
     },
     "execution_count": 54,
     "metadata": {},
     "output_type": "execute_result"
    }
   ],
   "source": [
    "print(f\"{bcolors.UNDERLINE}{bcolors.BOLD}{bcolors.OKBLUE}## MODEL 1 TSS ## {bcolors.ENDC}\")\n",
    "gs10 = GridSearchCV(model1, grid1, cv=tss)\n",
    "gs10.fit(X_train, y_train)\n",
    "test_random(X_val, y_val, gs10)\n",
    "\n",
    "print(f\"{bcolors.UNDERLINE}{bcolors.BOLD}{bcolors.OKBLUE}\\n## MODEL 1 KF ## {bcolors.ENDC}\")\n",
    "gs11 = GridSearchCV(model1, grid1, cv=kf)\n",
    "gs11.fit(X_train, y_train)\n",
    "test_random(X_val, y_val, gs11)\n",
    "\n",
    "print(f\"{bcolors.UNDERLINE}{bcolors.BOLD}{bcolors.OKBLUE}\\n## MODEL 1 NESTED ## {bcolors.ENDC}\")\n",
    "#Utilizziamo il training set in modo tale da poter utilizzare il val set per la comparazione con il modello random\n",
    "nested_res12, nested_best_model12 = nested_cv(model1, grid1, X_train, y_train)\n",
    "test_random(X_val, y_val, nested_best_model12)\n",
    "nested_res12"
   ]
  },
  {
   "cell_type": "code",
   "execution_count": 55,
   "metadata": {},
   "outputs": [
    {
     "name": "stdout",
     "output_type": "stream",
     "text": [
      "\u001b[4m\u001b[1m\u001b[94m## MODEL 2 TSS ## \u001b[0m\n",
      "MODEL    Mean squared error: 4.1238\n",
      "MODEL        Relative error: 29.98936%\n",
      "MODEL R-squared coefficient: 0.72545\n",
      "\n",
      "RANDOM   Mean squared error: 24.401\n",
      "RANDOM       Relative error: 85.31813%\n",
      "RANDOM R-squared coefficient: -0.62453\n",
      "\n",
      "\u001b[4m\u001b[1m\u001b[94m\n",
      "## MODEL 2 KF ## \u001b[0m\n",
      "MODEL    Mean squared error: 2.5451\n",
      "MODEL        Relative error: 16.53727%\n",
      "MODEL R-squared coefficient: 0.83055\n",
      "\n",
      "RANDOM   Mean squared error: 24.401\n",
      "RANDOM       Relative error: 85.31813%\n",
      "RANDOM R-squared coefficient: -0.62453\n",
      "\n",
      "\u001b[4m\u001b[1m\u001b[94m\n",
      "## MODEL 2 NESTED ## \u001b[0m\n",
      "MODEL    Mean squared error: 2.4789\n",
      "MODEL        Relative error: 16.86304%\n",
      "MODEL R-squared coefficient: 0.83496\n",
      "\n",
      "RANDOM   Mean squared error: 24.401\n",
      "RANDOM       Relative error: 85.31813%\n",
      "RANDOM R-squared coefficient: -0.62453\n",
      "\n"
     ]
    },
    {
     "data": {
      "text/plain": [
       "[{0.5921196454675517: {'regr__alpha': 0.001,\n",
       "   'regr__gamma': 0.01,\n",
       "   'scale': StandardScaler(copy=True, with_mean=True, with_std=True)}},\n",
       " {0.6746662133086062: {'regr__alpha': 0.001,\n",
       "   'regr__gamma': 0.01,\n",
       "   'scale': StandardScaler(copy=True, with_mean=True, with_std=True)}},\n",
       " {0.6185225781260214: {'regr__alpha': 0.1,\n",
       "   'regr__gamma': 0.1,\n",
       "   'scale': StandardScaler(copy=True, with_mean=True, with_std=True)}}]"
      ]
     },
     "execution_count": 55,
     "metadata": {},
     "output_type": "execute_result"
    }
   ],
   "source": [
    "print(f\"{bcolors.UNDERLINE}{bcolors.BOLD}{bcolors.OKBLUE}## MODEL 2 TSS ## {bcolors.ENDC}\")\n",
    "gs20 = GridSearchCV(model2, grid2, cv=tss)\n",
    "gs20.fit(X_train, y_train)\n",
    "test_random(X_val, y_val, gs20)\n",
    "\n",
    "print(f\"{bcolors.UNDERLINE}{bcolors.BOLD}{bcolors.OKBLUE}\\n## MODEL 2 KF ## {bcolors.ENDC}\")\n",
    "gs21 = GridSearchCV(model2, grid2, cv=kf)\n",
    "gs21.fit(X_train, y_train)\n",
    "test_random(X_val, y_val, gs21)\n",
    "\n",
    "print(f\"{bcolors.UNDERLINE}{bcolors.BOLD}{bcolors.OKBLUE}\\n## MODEL 2 NESTED ## {bcolors.ENDC}\")\n",
    "#Utilizziamo il training set in modo tale da poter utilizzare il val set per la comparazione con il modello random\n",
    "nested_res22, nested_best_model22 = nested_cv(model2, grid2, X_train, y_train)\n",
    "test_random(X_val, y_val, nested_best_model22)\n",
    "nested_res22"
   ]
  },
  {
   "cell_type": "code",
   "execution_count": 56,
   "metadata": {},
   "outputs": [
    {
     "name": "stdout",
     "output_type": "stream",
     "text": [
      "\u001b[4m\u001b[1m\u001b[94m## MODEL 3 TSS ## \u001b[0m\n",
      "MODEL    Mean squared error: 3.2034\n",
      "MODEL        Relative error: 23.61932%\n",
      "MODEL R-squared coefficient: 0.78673\n",
      "\n",
      "RANDOM   Mean squared error: 24.401\n",
      "RANDOM       Relative error: 85.31813%\n",
      "RANDOM R-squared coefficient: -0.62453\n",
      "\n",
      "\u001b[4m\u001b[1m\u001b[94m\n",
      "## MODEL 3 KF ## \u001b[0m\n",
      "MODEL    Mean squared error: 2.6118\n",
      "MODEL        Relative error: 18.75663%\n",
      "MODEL R-squared coefficient: 0.82612\n",
      "\n",
      "RANDOM   Mean squared error: 24.401\n",
      "RANDOM       Relative error: 85.31813%\n",
      "RANDOM R-squared coefficient: -0.62453\n",
      "\n",
      "\u001b[4m\u001b[1m\u001b[94m\n",
      "## MODEL 3 NESTED ## \u001b[0m\n",
      "MODEL    Mean squared error: 2.4838\n",
      "MODEL        Relative error: 18.11004%\n",
      "MODEL R-squared coefficient: 0.83464\n",
      "\n",
      "RANDOM   Mean squared error: 24.401\n",
      "RANDOM       Relative error: 85.31813%\n",
      "RANDOM R-squared coefficient: -0.62453\n",
      "\n"
     ]
    },
    {
     "data": {
      "text/plain": [
       "[{0.5877462466463899: {'regr__alpha': 7.196856730011514, 'regr__degree': 3}},\n",
       " {0.6672317022822323: {'regr__alpha': 7.196856730011514, 'regr__degree': 3}},\n",
       " {0.6072553098478701: {'regr__alpha': 7.196856730011514, 'regr__degree': 3}}]"
      ]
     },
     "execution_count": 56,
     "metadata": {},
     "output_type": "execute_result"
    }
   ],
   "source": [
    "print(f\"{bcolors.UNDERLINE}{bcolors.BOLD}{bcolors.OKBLUE}## MODEL 3 TSS ## {bcolors.ENDC}\")\n",
    "gs30 = GridSearchCV(model3, grid3, cv=tss)\n",
    "gs30.fit(X_train, y_train)\n",
    "test_random(X_val, y_val, gs30)\n",
    "\n",
    "print(f\"{bcolors.UNDERLINE}{bcolors.BOLD}{bcolors.OKBLUE}\\n## MODEL 3 KF ## {bcolors.ENDC}\")\n",
    "gs31 = GridSearchCV(model3, grid3, cv=kf)\n",
    "gs31.fit(X_train, y_train)\n",
    "test_random(X_val, y_val, gs31)\n",
    "\n",
    "print(f\"{bcolors.UNDERLINE}{bcolors.BOLD}{bcolors.OKBLUE}\\n## MODEL 3 NESTED ## {bcolors.ENDC}\")\n",
    "#Utilizziamo il training set in modo tale da poter utilizzare il val set per la comparazione con il modello random\n",
    "nested_res32, nested_best_model32 = nested_cv(model3, grid3, X_train, y_train)\n",
    "test_random(X_val, y_val, nested_best_model32)\n",
    "nested_res32"
   ]
  },
  {
   "cell_type": "markdown",
   "metadata": {},
   "source": [
    "- Referenziamo ogni mdello generato con una numerazione da 00 a 32 dove la prima cifra è il numero di modello e la seconda la gs differente.\n",
    "\n",
    "\n",
    "Notiamo come i risultati ottenuti utilizzando KF sono sensibilimente migliori di quelli con TSS.\n",
    "\n",
    "Ora proviamo a creare un'ultimo modello, a partire dall'apparente migliore tra il precedenti, utilizzando un set univariato o miltivariato con meno features:\n",
    " "
   ]
  },
  {
   "cell_type": "code",
   "execution_count": 57,
   "metadata": {},
   "outputs": [
    {
     "name": "stdout",
     "output_type": "stream",
     "text": [
      "\u001b[4m\u001b[1m\u001b[94m\n",
      "## MODEL 2 SES ## \u001b[0m\n",
      "MODEL    Mean squared error: 5.6369\n",
      "MODEL        Relative error: 34.33898%\n",
      "MODEL R-squared coefficient: 0.62471\n",
      "\n",
      "RANDOM   Mean squared error: 24.401\n",
      "RANDOM       Relative error: 85.31813%\n",
      "RANDOM R-squared coefficient: -0.62453\n",
      "\n",
      "\u001b[4m\u001b[1m\u001b[94m\n",
      "## MODEL 2 SOME ## \u001b[0m\n",
      "MODEL    Mean squared error: 3.0603\n",
      "MODEL        Relative error: 24.88030%\n",
      "MODEL R-squared coefficient: 0.79626\n",
      "\n",
      "RANDOM   Mean squared error: 24.401\n",
      "RANDOM       Relative error: 85.31813%\n",
      "RANDOM R-squared coefficient: -0.62453\n",
      "\n"
     ]
    }
   ],
   "source": [
    "print(f\"{bcolors.UNDERLINE}{bcolors.BOLD}{bcolors.OKBLUE}\\n## MODEL 2 SES ## {bcolors.ENDC}\")\n",
    "gs_ses = GridSearchCV(model2, grid2, cv=kf)\n",
    "gs_ses.fit(X_ses_train, y_ses_train)\n",
    "test_random(X_ses_val, y_ses_val, gs_ses)\n",
    "\n",
    "print(f\"{bcolors.UNDERLINE}{bcolors.BOLD}{bcolors.OKBLUE}\\n## MODEL 2 SOME ## {bcolors.ENDC}\")\n",
    "gs_some = GridSearchCV(model2, grid2, cv=kf)\n",
    "gs_some.fit(X_some_train, y_some_train)\n",
    "test_random(X_some_val, y_some_val, gs_some)"
   ]
  },
  {
   "cell_type": "markdown",
   "metadata": {},
   "source": [
    "Notiamo come in entrambi i casi (0.62, 0.79) il R-squared coefficient (come anche le altre metriche) è minore del modello che utilizza tutte le feature (0.83). "
   ]
  },
  {
   "cell_type": "markdown",
   "metadata": {},
   "source": [
    "## 4 - Comparazione Modelli\n",
    "\n",
    "In questa sezione andremo a selezionare un set di modelli sulla base delle metriche già calcolate, poi faremo delle comparazioni di confidenza in modo da farne le dovute considerazioni.\n",
    "\n",
    "I 3 modelli che generano metriche migliori sono i seguenti: `nested_best_model12` `nested_best_model22` `nested_best_model32`, analizziamone gli iperparametri che ne hanno portato valore:"
   ]
  },
  {
   "cell_type": "code",
   "execution_count": 58,
   "metadata": {},
   "outputs": [
    {
     "data": {
      "text/plain": [
       "[{0.5167538524492781: {'poly__degree': 2, 'scale': None}},\n",
       " {0.6149391034485121: {'poly__degree': 2, 'scale': None}},\n",
       " {0.5657776590856112: {'poly__degree': 2,\n",
       "   'scale': StandardScaler(copy=True, with_mean=True, with_std=True)}}]"
      ]
     },
     "execution_count": 58,
     "metadata": {},
     "output_type": "execute_result"
    }
   ],
   "source": [
    "nested_res12"
   ]
  },
  {
   "cell_type": "code",
   "execution_count": 59,
   "metadata": {},
   "outputs": [
    {
     "data": {
      "text/plain": [
       "[{0.5921196454675517: {'regr__alpha': 0.001,\n",
       "   'regr__gamma': 0.01,\n",
       "   'scale': StandardScaler(copy=True, with_mean=True, with_std=True)}},\n",
       " {0.6746662133086062: {'regr__alpha': 0.001,\n",
       "   'regr__gamma': 0.01,\n",
       "   'scale': StandardScaler(copy=True, with_mean=True, with_std=True)}},\n",
       " {0.6185225781260214: {'regr__alpha': 0.1,\n",
       "   'regr__gamma': 0.1,\n",
       "   'scale': StandardScaler(copy=True, with_mean=True, with_std=True)}}]"
      ]
     },
     "execution_count": 59,
     "metadata": {},
     "output_type": "execute_result"
    }
   ],
   "source": [
    "nested_res22"
   ]
  },
  {
   "cell_type": "code",
   "execution_count": 60,
   "metadata": {
    "scrolled": true
   },
   "outputs": [
    {
     "data": {
      "text/plain": [
       "[{0.5877462466463899: {'regr__alpha': 7.196856730011514, 'regr__degree': 3}},\n",
       " {0.6672317022822323: {'regr__alpha': 7.196856730011514, 'regr__degree': 3}},\n",
       " {0.6072553098478701: {'regr__alpha': 7.196856730011514, 'regr__degree': 3}}]"
      ]
     },
     "execution_count": 60,
     "metadata": {},
     "output_type": "execute_result"
    }
   ],
   "source": [
    "nested_res32"
   ]
  },
  {
   "cell_type": "code",
   "execution_count": 61,
   "metadata": {},
   "outputs": [
    {
     "name": "stdout",
     "output_type": "stream",
     "text": [
      "(0.7610609545375031, 0.8420051570683784)\n",
      "(0.7935498625067254, 0.8694311771348024)\n",
      "(0.7932017568682754, 0.8691413607153999)\n"
     ]
    }
   ],
   "source": [
    "print(model_conf_interval(nested_best_model12, X_val, y_val))\n",
    "print(model_conf_interval(nested_best_model22, X_val, y_val))\n",
    "print(model_conf_interval(nested_best_model32, X_val, y_val))"
   ]
  },
  {
   "cell_type": "code",
   "execution_count": 62,
   "metadata": {
    "scrolled": true
   },
   "outputs": [
    {
     "name": "stdout",
     "output_type": "stream",
     "text": [
      "(-0.025293934944689997, 0.08583600393072831)\n",
      "(-0.05340897701949944, 0.05405357632889431)\n",
      "(-0.025636557879438075, 0.08553402755608153)\n"
     ]
    }
   ],
   "source": [
    "print(model_diff_interval(nested_best_model12, nested_best_model22, X_val, y_val))\n",
    "print(model_diff_interval(nested_best_model22, nested_best_model32, X_val, y_val))\n",
    "print(model_diff_interval(nested_best_model32, nested_best_model12, X_val, y_val))"
   ]
  },
  {
   "cell_type": "markdown",
   "metadata": {},
   "source": [
    "Analizzando accuratamente tutti gli intervalli di confidenza e tutte le comparazioni tra modelli possiamo notare che `nested_best_mdel12` è quello che si distacca di più. Infatti la comparazione tra `nested_best_model22` e `nested_best_model32` lascia intendere che ci sia veramente poca differenza tra i due (in termini di confidenza), nonostante i modelli su cui si basano sono completamente diversi (`rbf`, `poly`). Di seguito ripropongo le relative metriche:"
   ]
  },
  {
   "cell_type": "code",
   "execution_count": 63,
   "metadata": {},
   "outputs": [
    {
     "name": "stdout",
     "output_type": "stream",
     "text": [
      "   Mean squared error: 2.4789\n",
      "       Relative error: 16.86304%\n",
      "R-squared coefficient: 0.83496\n"
     ]
    }
   ],
   "source": [
    "print_eval(X_val, y_val, nested_best_model22);"
   ]
  },
  {
   "cell_type": "code",
   "execution_count": 64,
   "metadata": {},
   "outputs": [
    {
     "name": "stdout",
     "output_type": "stream",
     "text": [
      "   Mean squared error: 2.4838\n",
      "       Relative error: 18.11004%\n",
      "R-squared coefficient: 0.83464\n"
     ]
    }
   ],
   "source": [
    "print_eval(X_val, y_val, nested_best_model32);"
   ]
  },
  {
   "cell_type": "markdown",
   "metadata": {},
   "source": [
    "## 5 - Modello finale\n",
    "\n",
    "In questo ultimo punto vedremo più nel dettaglio i parametri appresi dal modello da noi selezionato come migliore.\n",
    "\n",
    "Dalla scelta finale posta qui sopra decidiamo di selezionare come modello finale `nested_best_model22` poichè presenta metriche leggermente migliori rispetto a `nested_best_model32`.\n",
    "\n"
   ]
  },
  {
   "cell_type": "code",
   "execution_count": 65,
   "metadata": {},
   "outputs": [
    {
     "name": "stdout",
     "output_type": "stream",
     "text": [
      "   Mean squared error: 2.4789\n",
      "       Relative error: 16.86304%\n",
      "R-squared coefficient: 0.83496\n"
     ]
    }
   ],
   "source": [
    "print_eval(X_val, y_val, nested_best_model22)"
   ]
  },
  {
   "cell_type": "markdown",
   "metadata": {},
   "source": [
    "Poichè stiamo parlando di un modello KernelRidge, non abbiamo coefficienti facilmente interpretabili come in altri modelli di regressione classici. Dall'attributo `dual_coef_` di un oggetto KernelRidge è possibile ottenere coefficienti che fanno riferimento  allo spazio kernel."
   ]
  },
  {
   "cell_type": "markdown",
   "metadata": {},
   "source": [
    "## Conclusioni"
   ]
  },
  {
   "cell_type": "markdown",
   "metadata": {},
   "source": [
    "In conclusione posso ritenermi soddisfatto dei risultati ottenuti, infatti, le predizioni ottenute hanno sempre avuto parametri di gran lunga migliori rispetto a dei valori casuali imputabili a predizioni di un modello random. Nonostante ciò sono convinto ci siano margini di miglioramento. Il prossimo step per rendere il modello utilzzabile è quello dello sviluppo della applicazione che calcoli l'inventario residuo a partire da una certa data e un certo numeoro di unità presenti al momento. Dalla data si possono ricavare informazioni in merito alle possibili `sessioni` e `visualizzazioni` nei giorni a seguire sulla base dei trend giornalieri/settimanli/mensili. La `per_buybox` giornaliera è disponibile al venditore e può essere presa in considerazione anche per le date successive. Il nuemro di `offerte_attive` è conosciuto al venditore sulla base degli attuali prodotti out-of-stock, come anche il `prezzo_medio` valore che imposta lui direttamente."
   ]
  }
 ],
 "metadata": {
  "kernelspec": {
   "display_name": "Python 3",
   "language": "python",
   "name": "python3"
  },
  "language_info": {
   "codemirror_mode": {
    "name": "ipython",
    "version": 3
   },
   "file_extension": ".py",
   "mimetype": "text/x-python",
   "name": "python",
   "nbconvert_exporter": "python",
   "pygments_lexer": "ipython3",
   "version": "3.8.0"
  }
 },
 "nbformat": 4,
 "nbformat_minor": 4
}
